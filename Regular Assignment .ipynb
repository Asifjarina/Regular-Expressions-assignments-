{
 "cells": [
  {
   "cell_type": "markdown",
   "id": "86edd2a5",
   "metadata": {},
   "source": [
    "# Regular Expressions"
   ]
  },
  {
   "cell_type": "code",
   "execution_count": 1,
   "id": "cd0a6af6",
   "metadata": {},
   "outputs": [],
   "source": [
    "import pandas as pd\n",
    "import numpy as np"
   ]
  },
  {
   "cell_type": "markdown",
   "id": "c76ae923",
   "metadata": {},
   "source": [
    "# Questions 1"
   ]
  },
  {
   "cell_type": "code",
   "execution_count": 1,
   "id": "fb186e5d",
   "metadata": {},
   "outputs": [
    {
     "name": "stdout",
     "output_type": "stream",
     "text": [
      "Hello::world::This:is:a:test:\n"
     ]
    }
   ],
   "source": [
    "import re\n",
    "\n",
    "def replace_space_comma_dot_with_colon(text: str) -> str:\n",
    "    return re.sub(r'[ ,.]', ':', text)\n",
    "\n",
    "text = 'Hello, world. This is a test.'\n",
    "print(replace_space_comma_dot_with_colon(text))"
   ]
  },
  {
   "cell_type": "markdown",
   "id": "33a97812",
   "metadata": {},
   "source": [
    "# Questions 2"
   ]
  },
  {
   "cell_type": "code",
   "execution_count": 6,
   "id": "a46fb21e",
   "metadata": {},
   "outputs": [],
   "source": [
    "data = {'SUMMARY':['hello, world!','XXXXX test', '123four, five:; six...']}\n",
    "df = pd.DataFrame(data)"
   ]
  },
  {
   "cell_type": "code",
   "execution_count": 7,
   "id": "b2a54210",
   "metadata": {},
   "outputs": [
    {
     "data": {
      "text/html": [
       "<div>\n",
       "<style scoped>\n",
       "    .dataframe tbody tr th:only-of-type {\n",
       "        vertical-align: middle;\n",
       "    }\n",
       "\n",
       "    .dataframe tbody tr th {\n",
       "        vertical-align: top;\n",
       "    }\n",
       "\n",
       "    .dataframe thead th {\n",
       "        text-align: right;\n",
       "    }\n",
       "</style>\n",
       "<table border=\"1\" class=\"dataframe\">\n",
       "  <thead>\n",
       "    <tr style=\"text-align: right;\">\n",
       "      <th></th>\n",
       "      <th>SUMMARY</th>\n",
       "    </tr>\n",
       "  </thead>\n",
       "  <tbody>\n",
       "    <tr>\n",
       "      <th>0</th>\n",
       "      <td>hello, world!</td>\n",
       "    </tr>\n",
       "    <tr>\n",
       "      <th>1</th>\n",
       "      <td>XXXXX test</td>\n",
       "    </tr>\n",
       "    <tr>\n",
       "      <th>2</th>\n",
       "      <td>123four, five:; six...</td>\n",
       "    </tr>\n",
       "  </tbody>\n",
       "</table>\n",
       "</div>"
      ],
      "text/plain": [
       "                  SUMMARY\n",
       "0           hello, world!\n",
       "1              XXXXX test\n",
       "2  123four, five:; six..."
      ]
     },
     "execution_count": 7,
     "metadata": {},
     "output_type": "execute_result"
    }
   ],
   "source": [
    "df"
   ]
  },
  {
   "cell_type": "markdown",
   "id": "c4d0640b",
   "metadata": {},
   "source": [
    "# questions 3"
   ]
  },
  {
   "cell_type": "code",
   "execution_count": 13,
   "id": "2e13c3ba",
   "metadata": {},
   "outputs": [],
   "source": [
    "import re "
   ]
  },
  {
   "cell_type": "code",
   "execution_count": 14,
   "id": "89ac40f2",
   "metadata": {},
   "outputs": [],
   "source": [
    "text = 'The quick brown fox jumps over the lazy dog.'"
   ]
  },
  {
   "cell_type": "code",
   "execution_count": 15,
   "id": "5ce5b981",
   "metadata": {},
   "outputs": [
    {
     "name": "stdout",
     "output_type": "stream",
     "text": [
      "['quick', 'brown', 'jumps', 'over', 'lazy']\n"
     ]
    }
   ],
   "source": [
    "print (re.findall(r\"\\b\\w{4,}\\b\", text))"
   ]
  },
  {
   "cell_type": "markdown",
   "id": "4beb78b6",
   "metadata": {},
   "source": [
    "# questions 4"
   ]
  },
  {
   "cell_type": "code",
   "execution_count": 1,
   "id": "94249486",
   "metadata": {},
   "outputs": [],
   "source": [
    "import re "
   ]
  },
  {
   "cell_type": "code",
   "execution_count": 3,
   "id": "f9a88ecc",
   "metadata": {},
   "outputs": [],
   "source": [
    "def find_words(string):\n",
    "    pattern = re.compile(r'\\b\\w{3,5}\\b')\n",
    "    return pattern.findall(string)\n",
    "\n",
    "string = \"This is a sample string with words of different lengths.\"\n",
    "words = find_words(string)"
   ]
  },
  {
   "cell_type": "code",
   "execution_count": 5,
   "id": "ba84d546",
   "metadata": {},
   "outputs": [
    {
     "name": "stdout",
     "output_type": "stream",
     "text": [
      "['This', 'with', 'words']\n"
     ]
    }
   ],
   "source": [
    "print(words)"
   ]
  },
  {
   "cell_type": "markdown",
   "id": "b2ef42f2",
   "metadata": {},
   "source": [
    "# questions 5"
   ]
  },
  {
   "cell_type": "code",
   "execution_count": 2,
   "id": "ce6e3622",
   "metadata": {},
   "outputs": [
    {
     "name": "stdout",
     "output_type": "stream",
     "text": [
      "['example .com', 'hr@fliprobo .com', 'github .com', 'Hello Data Science World', 'Data Scientist']\n"
     ]
    }
   ],
   "source": [
    "import re\n",
    "\n",
    "def remove_parenthesis(lst):\n",
    "    pattern = re.compile(r'\\(|\\)')\n",
    "    return [pattern.sub('', s) for s in lst]\n",
    "\n",
    "sample_text = [\"example (.com)\", \"hr@fliprobo (.com)\", \"github (.com)\", \"Hello (Data Science World)\", \"Data (Scientist)\"]\n",
    "result = remove_parenthesis(sample_text)\n",
    "print(result)"
   ]
  },
  {
   "cell_type": "markdown",
   "id": "4c623811",
   "metadata": {},
   "source": [
    "# Questions 6"
   ]
  },
  {
   "cell_type": "code",
   "execution_count": 15,
   "id": "0884b9e3",
   "metadata": {},
   "outputs": [],
   "source": [
    "import re "
   ]
  },
  {
   "cell_type": "code",
   "execution_count": 17,
   "id": "5d5327b4",
   "metadata": {},
   "outputs": [
    {
     "name": "stdout",
     "output_type": "stream",
     "text": [
      "example\n",
      "w3resource\n",
      "github\n",
      "stackoverflow\n"
     ]
    }
   ],
   "source": [
    "items = [\"example (.com)\", \"w3resource\", \"github (.com)\", \"stackoverflow (.com)\"]\n",
    "for item in items:\n",
    "    \n",
    "     print(re.sub(r\" ?\\([^)]+\\)\", \"\", item))"
   ]
  },
  {
   "cell_type": "markdown",
   "id": "8e046f2d",
   "metadata": {},
   "source": [
    "# Questions 7"
   ]
  },
  {
   "cell_type": "code",
   "execution_count": 18,
   "id": "530b32f2",
   "metadata": {},
   "outputs": [],
   "source": [
    "import re "
   ]
  },
  {
   "cell_type": "code",
   "execution_count": 19,
   "id": "1836122f",
   "metadata": {},
   "outputs": [],
   "source": [
    "text = \"ImportanceOfRegularExpressionsInPython\"\n",
    "result = re.findall('[A-Z][^A-Z]*', text)"
   ]
  },
  {
   "cell_type": "code",
   "execution_count": 20,
   "id": "092752ed",
   "metadata": {},
   "outputs": [
    {
     "name": "stdout",
     "output_type": "stream",
     "text": [
      "['Importance', 'Of', 'Regular', 'Expressions', 'In', 'Python']\n"
     ]
    }
   ],
   "source": [
    "print(result)"
   ]
  },
  {
   "cell_type": "markdown",
   "id": "c285bf36",
   "metadata": {},
   "source": [
    "# questions 8"
   ]
  },
  {
   "cell_type": "code",
   "execution_count": 23,
   "id": "ec67debe",
   "metadata": {},
   "outputs": [
    {
     "name": "stdout",
     "output_type": "stream",
     "text": [
      "Python\n",
      "Python Exercises\n",
      "Python Exercises Practice Solution\n"
     ]
    }
   ],
   "source": [
    "import re\n",
    "\n",
    "def capital_words_spaces(str1):\n",
    "  return re.sub(r\"(\\w)([A-Z])\", r\"\\1 \\2\", str1)\n",
    "\n",
    "print(capital_words_spaces(\"Python\"))\n",
    "print(capital_words_spaces(\"PythonExercises\"))\n",
    "print(capital_words_spaces(\"PythonExercisesPracticeSolution\"))\n"
   ]
  },
  {
   "cell_type": "markdown",
   "id": "9672bad4",
   "metadata": {},
   "source": [
    "# Questions 9"
   ]
  },
  {
   "cell_type": "code",
   "execution_count": 24,
   "id": "f9f6e604",
   "metadata": {},
   "outputs": [
    {
     "name": "stdout",
     "output_type": "stream",
     "text": [
      "Regular Expression 1Is An 2Important Topic 3In Python\n"
     ]
    }
   ],
   "source": [
    "import re\n",
    "\n",
    "def insert_spaces(s: str) -> str:\n",
    "    return re.sub(r'(?<=[a-z])(?=[A-Z0-9])', ' ', s)\n",
    "\n",
    "sample_text = \"RegularExpression1IsAn2ImportantTopic3InPython\"\n",
    "print(insert_spaces(sample_text))"
   ]
  },
  {
   "cell_type": "markdown",
   "id": "b5e7295d",
   "metadata": {},
   "source": [
    "# questions 10"
   ]
  },
  {
   "cell_type": "code",
   "execution_count": 5,
   "id": "17d1051d",
   "metadata": {},
   "outputs": [
    {
     "name": "stdout",
     "output_type": "stream",
     "text": [
      "         Country          Capital first_five_letters\n",
      "0          India        New Delhi              India\n",
      "1  United States  Washington D.C.             United\n",
      "2          China          Beijing              China\n",
      "3         Russia           Moscow             Russia\n",
      "4         Brazil         Brasília             Brazil\n"
     ]
    }
   ],
   "source": [
    "import pandas as pd\n",
    "\n",
    "\n",
    "df = pd.DataFrame({\n",
    "    'Country': ['India', 'United States', 'China', 'Russia', 'Brazil'],\n",
    "    'Capital': ['New Delhi', 'Washington D.C.', 'Beijing', 'Moscow', 'Brasília']\n",
    "})\n",
    "\n",
    "\n",
    "df['first_five_letters'] = df['Country'].str[:6]\n",
    "\n",
    "print(df)"
   ]
  },
  {
   "cell_type": "markdown",
   "id": "901a876b",
   "metadata": {},
   "source": [
    "# Questions 11"
   ]
  },
  {
   "cell_type": "code",
   "execution_count": 7,
   "id": "f2de043d",
   "metadata": {},
   "outputs": [
    {
     "name": "stdout",
     "output_type": "stream",
     "text": [
      "Not matched!\n",
      "Found a match!\n"
     ]
    }
   ],
   "source": [
    "import re\n",
    "\n",
    "def text_match(text):\n",
    "    patterns = '^[a-zA-Z0-9_]*$'\n",
    "    if re.search(patterns, text):\n",
    "        return 'Found a match!'\n",
    "    else:\n",
    "        return 'Not matched!'\n",
    "\n",
    "print(text_match('The quick brown fox jumps over the lazy dog.'))\n",
    "print(text_match('Python_Exercises_1'))"
   ]
  },
  {
   "cell_type": "markdown",
   "id": "dab78ae7",
   "metadata": {},
   "source": [
    "# questions 12"
   ]
  },
  {
   "cell_type": "code",
   "execution_count": 21,
   "id": "58963562",
   "metadata": {},
   "outputs": [],
   "source": [
    "import re "
   ]
  },
  {
   "cell_type": "code",
   "execution_count": 22,
   "id": "120488c3",
   "metadata": {},
   "outputs": [
    {
     "name": "stdout",
     "output_type": "stream",
     "text": [
      "True\n",
      "False\n"
     ]
    }
   ],
   "source": [
    "def match_num(string):\n",
    "    text = re.compile(r\"^5\")\n",
    "    if text.match(string):\n",
    "        return True\n",
    "    else:\n",
    "        return False \n",
    "print(match_num('5-2345861'))\n",
    "print(match_num('6-2345861'))"
   ]
  },
  {
   "cell_type": "markdown",
   "id": "f2b07943",
   "metadata": {},
   "source": [
    "# questions 13"
   ]
  },
  {
   "cell_type": "code",
   "execution_count": 23,
   "id": "0bb7b3a8",
   "metadata": {},
   "outputs": [],
   "source": [
    "import re "
   ]
  },
  {
   "cell_type": "code",
   "execution_count": 24,
   "id": "1e1b8427",
   "metadata": {},
   "outputs": [],
   "source": [
    "ip = \"216.08.094.196\"\n",
    "string = re.sub('\\.[0]*', '.', ip)"
   ]
  },
  {
   "cell_type": "code",
   "execution_count": 25,
   "id": "8ae5b804",
   "metadata": {},
   "outputs": [
    {
     "name": "stdout",
     "output_type": "stream",
     "text": [
      "216.8.94.196\n"
     ]
    }
   ],
   "source": [
    "print(string)"
   ]
  },
  {
   "cell_type": "markdown",
   "id": "e72ee355",
   "metadata": {},
   "source": [
    "# Questions 14"
   ]
  },
  {
   "cell_type": "code",
   "execution_count": 3,
   "id": "22f09223",
   "metadata": {},
   "outputs": [
    {
     "name": "stdout",
     "output_type": "stream",
     "text": [
      "No date string found in the expected format.\n"
     ]
    }
   ],
   "source": [
    "import re\n",
    "\n",
    "with open('bike.csv') as file:\n",
    "    text = file.read()\n",
    "\n",
    "date_regex = r'\\b([A-Z][a-z]+ \\d{1,2}(st|nd|rd|th)? \\d{4})\\b'\n",
    "match = re.search(date_regex, text)\n",
    "\n",
    "if match:\n",
    "    date_string = match.group(1)\n",
    "    print(f\"The date string in the expected format is: {date_string}\")\n",
    "else:\n",
    "    print(\"No date string found in the expected format.\")"
   ]
  },
  {
   "cell_type": "markdown",
   "id": "c675e17d",
   "metadata": {},
   "source": [
    "# Questions 15"
   ]
  },
  {
   "cell_type": "code",
   "execution_count": 26,
   "id": "51ed318a",
   "metadata": {},
   "outputs": [
    {
     "name": "stdout",
     "output_type": "stream",
     "text": [
      "Searching for \"fox\" in \"The quick brown fox jumps over the lazy dog.\" -> Matched!\n",
      "Searching for \"dog\" in \"The quick brown fox jumps over the lazy dog.\" -> Matched!\n",
      "Searching for \"horse\" in \"The quick brown fox jumps over the lazy dog.\" -> Not Matched!\n"
     ]
    }
   ],
   "source": [
    "import re\n",
    "\n",
    "patterns = ['fox', 'dog', 'horse']\n",
    "text = 'The quick brown fox jumps over the lazy dog.'\n",
    "\n",
    "for pattern in patterns:\n",
    "    print(f'Searching for \"{pattern}\" in \"{text}\" ->', end=' ')\n",
    "    if re.search(pattern, text):\n",
    "        print('Matched!')\n",
    "    else:\n",
    "        print('Not Matched!')"
   ]
  },
  {
   "cell_type": "markdown",
   "id": "d4a76ae2",
   "metadata": {},
   "source": [
    "# Questions 16"
   ]
  },
  {
   "cell_type": "code",
   "execution_count": 27,
   "id": "73eee163",
   "metadata": {},
   "outputs": [
    {
     "name": "stdout",
     "output_type": "stream",
     "text": [
      "Found \"fox\" in \"The quick brown fox jumps over the lazy dog.\" from 16 to 19.\n"
     ]
    }
   ],
   "source": [
    "import re\n",
    "\n",
    "pattern = 'fox'\n",
    "text = 'The quick brown fox jumps over the lazy dog.'\n",
    "match = re.search(pattern, text)\n",
    "s = match.start()\n",
    "e = match.end()\n",
    "\n",
    "print('Found \"{}\" in \"{}\" from {} to {}.'.format(match.re.pattern, match.string, s, e))"
   ]
  },
  {
   "cell_type": "markdown",
   "id": "1eafe935",
   "metadata": {},
   "source": [
    "# Questions 17"
   ]
  },
  {
   "cell_type": "code",
   "execution_count": 29,
   "id": "a99843c7",
   "metadata": {},
   "outputs": [
    {
     "name": "stdout",
     "output_type": "stream",
     "text": [
      "Found \"exercises\"\n",
      "Found \"exercises\"\n",
      "Found \"exercises\"\n"
     ]
    }
   ],
   "source": [
    "import re\n",
    "\n",
    "text = 'Python exercises, PHP exercises, C# exercises'\n",
    "pattern = 'exercises'\n",
    "\n",
    "for match in re.findall(pattern, text):\n",
    "    print('Found \\\"%s\\\"' % match)"
   ]
  },
  {
   "cell_type": "markdown",
   "id": "acc74ced",
   "metadata": {},
   "source": [
    "# Questions 18"
   ]
  },
  {
   "cell_type": "code",
   "execution_count": 26,
   "id": "dfd9f3f5",
   "metadata": {},
   "outputs": [],
   "source": [
    "import re "
   ]
  },
  {
   "cell_type": "code",
   "execution_count": 27,
   "id": "f51f3f3a",
   "metadata": {},
   "outputs": [],
   "source": [
    "text = 'python exercises, PHP exercises, C# exercises'\n",
    "pattern = 'exercises'\n",
    "for match in re.finditer(pattern, text):\n",
    "    s = match.start()\n",
    "    e = match.end()\n",
    "    "
   ]
  },
  {
   "cell_type": "code",
   "execution_count": 28,
   "id": "a6c41e04",
   "metadata": {},
   "outputs": [
    {
     "name": "stdout",
     "output_type": "stream",
     "text": [
      "Found \"exercises\" at 36:45\n"
     ]
    }
   ],
   "source": [
    "print('Found \"%s\" at %d:%d' % (text[s:e], s, e))"
   ]
  },
  {
   "cell_type": "markdown",
   "id": "ef496241",
   "metadata": {},
   "source": [
    "# questions 19"
   ]
  },
  {
   "cell_type": "code",
   "execution_count": 29,
   "id": "11075f79",
   "metadata": {},
   "outputs": [],
   "source": [
    "import re"
   ]
  },
  {
   "cell_type": "code",
   "execution_count": 33,
   "id": "ae9ddd87",
   "metadata": {},
   "outputs": [],
   "source": [
    "def change_date_format(dt):\n",
    "    return re.sub(r'(\\d{4})-(\\d{1,2})-(\\d{1,2})', '\\\\3-\\\\2-\\\\1', dt)\n",
    "dt1 = \"2026-01-02\""
   ]
  },
  {
   "cell_type": "code",
   "execution_count": 34,
   "id": "7c510a87",
   "metadata": {},
   "outputs": [
    {
     "name": "stdout",
     "output_type": "stream",
     "text": [
      "Original date in YYY-MM-DD Format:  2026-01-02\n",
      "New date in YYY-MM-DD Format:  02-01-2026\n"
     ]
    }
   ],
   "source": [
    "print(\"Original date in YYY-MM-DD Format: \",dt1)\n",
    "print(\"New date in YYY-MM-DD Format: \",change_date_format(dt1))"
   ]
  },
  {
   "cell_type": "markdown",
   "id": "927a5910",
   "metadata": {},
   "source": [
    "# questions 20"
   ]
  },
  {
   "cell_type": "code",
   "execution_count": 30,
   "id": "5365f0ed",
   "metadata": {},
   "outputs": [
    {
     "name": "stdout",
     "output_type": "stream",
     "text": [
      "['01.12', '0132.12', '2.31', '145.8', '3.01', '27.25', '0.25']\n"
     ]
    }
   ],
   "source": [
    "import re\n",
    "\n",
    "def find_decimal_numbers(text):\n",
    "    pattern = re.compile(r'\\d+\\.\\d{1,2}')\n",
    "    return pattern.findall(text)\n",
    "\n",
    "text = \"01.12 0132.123 2.31875 145.8 3.01 27.25 0.25\"\n",
    "result = find_decimal_numbers(text)\n",
    "print(result)"
   ]
  },
  {
   "cell_type": "markdown",
   "id": "0e98e5f9",
   "metadata": {},
   "source": [
    "# Questions 21"
   ]
  },
  {
   "cell_type": "code",
   "execution_count": null,
   "id": "a227df46",
   "metadata": {},
   "outputs": [],
   "source": [
    "import re\n",
    "\n",
    "text = input(\"Enter a string: \")\n",
    "\n",
    "for m in re.finditer(r\"\\d+\", text):\n",
    "    print(f\"Number: {m.group(0)}, Position: {m.start()}\")"
   ]
  },
  {
   "cell_type": "markdown",
   "id": "5bea7d77",
   "metadata": {},
   "source": [
    "# Questions 22"
   ]
  },
  {
   "cell_type": "code",
   "execution_count": 5,
   "id": "fb15be2f",
   "metadata": {},
   "outputs": [
    {
     "name": "stdout",
     "output_type": "stream",
     "text": [
      "950\n"
     ]
    }
   ],
   "source": [
    "import re\n",
    "\n",
    "def extract_max_num(string):\n",
    "    nums = re.findall(r'\\d+', string)\n",
    "    return max(map(int, nums))\n",
    "\n",
    "sample_text = 'my marks in each semester are: 947, 896, 926, 524, 734, 950, 642'\n",
    "print(extract_max_num(sample_text))"
   ]
  },
  {
   "cell_type": "markdown",
   "id": "d2d417b5",
   "metadata": {},
   "source": [
    "# questions 23"
   ]
  },
  {
   "cell_type": "code",
   "execution_count": 1,
   "id": "b275eeb4",
   "metadata": {},
   "outputs": [
    {
     "name": "stdout",
     "output_type": "stream",
     "text": [
      "Regular Expression Is An Important Topic In Python\n"
     ]
    }
   ],
   "source": [
    "import re\n",
    "\n",
    "def insert_spaces(text):\n",
    "    return re.sub(r'(?<!^)(?=[A-Z])', ' ', text)\n",
    "\n",
    "sample_text = 'RegularExpressionIsAnImportantTopicInPython'\n",
    "print(insert_spaces(sample_text))"
   ]
  },
  {
   "cell_type": "markdown",
   "id": "d77f27ef",
   "metadata": {},
   "source": [
    "# Questions 24"
   ]
  },
  {
   "cell_type": "code",
   "execution_count": 2,
   "id": "3efa5617",
   "metadata": {},
   "outputs": [
    {
     "name": "stdout",
     "output_type": "stream",
     "text": [
      "Found a match!\n",
      "Found a match!\n",
      "Not matched!\n",
      "Not matched!\n",
      "Not matched!\n",
      "Found a match!\n"
     ]
    }
   ],
   "source": [
    "import re\n",
    "def text_match(text):\n",
    "        patterns = '[A-Z]+[a-z]+$'\n",
    "        if re.search(patterns, text):\n",
    "                return 'Found a match!'\n",
    "        else:\n",
    "                return('Not matched!')\n",
    "print(text_match(\"AaBbGg\"))\n",
    "print(text_match(\"Python\"))\n",
    "print(text_match(\"python\"))\n",
    "print(text_match(\"PYTHON\"))\n",
    "print(text_match(\"aA\"))\n",
    "print(text_match(\"Aa\"))"
   ]
  },
  {
   "cell_type": "markdown",
   "id": "9ed23c7e",
   "metadata": {},
   "source": [
    "# Questions 25"
   ]
  },
  {
   "cell_type": "code",
   "execution_count": 4,
   "id": "12b46f7a",
   "metadata": {},
   "outputs": [
    {
     "name": "stdout",
     "output_type": "stream",
     "text": [
      "Hello world\n"
     ]
    }
   ],
   "source": [
    "import re\n",
    "\n",
    "def remove_continuous_duplicates(sentence):\n",
    "    return re.sub(r'\\b(\\w+)(\\s+\\1)+\\b', r'\\1', sentence, flags=re.IGNORECASE)\n",
    "\n",
    "sample_text = \"Hello hello world world\"\n",
    "print(remove_continuous_duplicates(sample_text))"
   ]
  },
  {
   "cell_type": "markdown",
   "id": "4dc8d2fb",
   "metadata": {},
   "source": [
    "# Questions 26"
   ]
  },
  {
   "cell_type": "code",
   "execution_count": 3,
   "id": "c387c75d",
   "metadata": {},
   "outputs": [],
   "source": [
    "import re "
   ]
  },
  {
   "cell_type": "code",
   "execution_count": 6,
   "id": "4209b0f9",
   "metadata": {},
   "outputs": [],
   "source": [
    "def check_string(my_string):\n",
    "    regex_expression = '[a-zA-z0-9]$'\n",
    "    if(re.search(regex_expression, my_string)):\n",
    "        print(\"The string ends with an alphanumeric charactar\")\n",
    "    else:\n",
    "        print(\"The string does not end with an alphanumeric character\")\n",
    "            "
   ]
  },
  {
   "cell_type": "code",
   "execution_count": 7,
   "id": "34e11ca9",
   "metadata": {},
   "outputs": [
    {
     "name": "stdout",
     "output_type": "stream",
     "text": [
      "The string ends with an alphanumeric charactar\n"
     ]
    }
   ],
   "source": [
    "my_string = \"HelloWorld123\"\n",
    "check_string(my_string)"
   ]
  },
  {
   "cell_type": "markdown",
   "id": "93d55286",
   "metadata": {},
   "source": [
    "# Questions 27"
   ]
  },
  {
   "cell_type": "code",
   "execution_count": 4,
   "id": "3d2d2c6a",
   "metadata": {},
   "outputs": [
    {
     "name": "stdout",
     "output_type": "stream",
     "text": [
      "['#Doltiwal', '#xyzabc', '#Demonetization']\n"
     ]
    }
   ],
   "source": [
    "import re\n",
    "\n",
    "text = \"\"\"RT @kapil_kausik: #Doltiwal I mean #xyzabc is \"hurt\" by #Demonetization as the same has rendered USELESS <ed><U+00A0><U+00BD><ed><U+00B1><U+0089> \"acquired funds\" No wo\"\"\"\n",
    "pattern = r'#\\w+'\n",
    "\n",
    "hashtags = re.findall(pattern, text)\n",
    "\n",
    "print(hashtags)"
   ]
  },
  {
   "cell_type": "markdown",
   "id": "44524adb",
   "metadata": {},
   "source": [
    "# Questions 28"
   ]
  },
  {
   "cell_type": "code",
   "execution_count": 2,
   "id": "ff3def4e",
   "metadata": {},
   "outputs": [
    {
     "name": "stdout",
     "output_type": "stream",
     "text": [
      "@Jags123456 Bharat band on 28??<ed><ed>Those who are protesting #demonetization are all different party leaders\n"
     ]
    }
   ],
   "source": [
    "import re\n",
    "\n",
    "def remove_symbols(text):\n",
    "    return re.sub(r'<U\\+\\w{2,4}>', '', text)\n",
    "\n",
    "sample_text = '@Jags123456 Bharat band on 28??<ed><U+00A0><U+00BD><ed><U+00B8><U+0082>Those who are protesting #demonetization are all different party leaders'\n",
    "print(remove_symbols(sample_text))"
   ]
  },
  {
   "cell_type": "markdown",
   "id": "80e8bd2f",
   "metadata": {},
   "source": [
    "# Questions 29"
   ]
  },
  {
   "cell_type": "code",
   "execution_count": 4,
   "id": "1a29ad58",
   "metadata": {},
   "outputs": [
    {
     "name": "stdout",
     "output_type": "stream",
     "text": [
      "[]\n"
     ]
    }
   ],
   "source": [
    "import re\n",
    "\n",
    "with open('bike.csv') as file:\n",
    "    text = file.read()\n",
    "\n",
    "matches = re.findall(r'\\d{2}-\\d{2}-\\d{4}', text)\n",
    "\n",
    "print(matches)"
   ]
  },
  {
   "cell_type": "markdown",
   "id": "cc3f8394",
   "metadata": {},
   "source": [
    "# Questions 30"
   ]
  },
  {
   "cell_type": "code",
   "execution_count": 13,
   "id": "e85b53a3",
   "metadata": {},
   "outputs": [],
   "source": [
    "import re\n",
    "\n",
    "def remove_words(text, n):\n",
    "    shortword = re.compile(r'\\W*\\b\\w{1,' + str(n) + r'}\\b')\n",
    "    return shortword.sub('', text)"
   ]
  },
  {
   "cell_type": "code",
   "execution_count": 14,
   "id": "f2b329a9",
   "metadata": {},
   "outputs": [
    {
     "name": "stdout",
     "output_type": "stream",
     "text": [
      " following example creates ArrayList capacity elements elements added ArrayList ArrayList trimmed accordingly.\n"
     ]
    }
   ],
   "source": [
    "text = \"The following example creates an ArrayList with a capacity of 50 elements. 4 elements are then added to the ArrayList and the ArrayList is trimmed accordingly.\"\n",
    "print(remove_words(text, 4))"
   ]
  }
 ],
 "metadata": {
  "kernelspec": {
   "display_name": "Python 3 (ipykernel)",
   "language": "python",
   "name": "python3"
  },
  "language_info": {
   "codemirror_mode": {
    "name": "ipython",
    "version": 3
   },
   "file_extension": ".py",
   "mimetype": "text/x-python",
   "name": "python",
   "nbconvert_exporter": "python",
   "pygments_lexer": "ipython3",
   "version": "3.11.5"
  }
 },
 "nbformat": 4,
 "nbformat_minor": 5
}
